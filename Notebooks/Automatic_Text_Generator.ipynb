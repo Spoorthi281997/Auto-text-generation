{
  "nbformat": 4,
  "nbformat_minor": 0,
  "metadata": {
    "colab": {
      "provenance": [],
      "gpuType": "T4"
    },
    "kernelspec": {
      "name": "python3",
      "display_name": "Python 3"
    },
    "language_info": {
      "name": "python"
    },
    "accelerator": "GPU"
  },
  "cells": [
    {
      "cell_type": "markdown",
      "source": [
        "# **Automatic text Generation using Tensorflow**"
      ],
      "metadata": {
        "id": "6icoNMe3Q5Nl"
      }
    },
    {
      "cell_type": "markdown",
      "source": [
        "## Import Libraries"
      ],
      "metadata": {
        "id": "ibHduImFXLAS"
      }
    },
    {
      "cell_type": "code",
      "source": [
        "import tensorflow as tf\n",
        "import string\n",
        "import requests"
      ],
      "metadata": {
        "id": "1mgg99i2W13C"
      },
      "execution_count": 30,
      "outputs": []
    },
    {
      "cell_type": "markdown",
      "source": [
        "## Import data"
      ],
      "metadata": {
        "id": "6FIzTbX3YEmN"
      }
    },
    {
      "cell_type": "code",
      "source": [
        "response = requests.get('https://ocw.mit.edu/ans7870/6/6.006/s08/lecturenotes/files/t8.shakespeare.txt')\n",
        "response.text[:1500]\n"
      ],
      "metadata": {
        "colab": {
          "base_uri": "https://localhost:8080/",
          "height": 139
        },
        "id": "bSptdJtwYHid",
        "outputId": "903bb025-5002-4937-96a7-1cab4b5e7a4b"
      },
      "execution_count": 31,
      "outputs": [
        {
          "output_type": "execute_result",
          "data": {
            "text/plain": [
              "'This is the 100th Etext file presented by Project Gutenberg, and\\nis presented in cooperation with World Library, Inc., from their\\nLibrary of the Future and Shakespeare CDROMS.  Project Gutenberg\\noften releases Etexts that are NOT placed in the Public Domain!!\\n\\nShakespeare\\n\\n*This Etext has certain copyright implications you should read!*\\n\\n<<THIS ELECTRONIC VERSION OF THE COMPLETE WORKS OF WILLIAM\\nSHAKESPEARE IS COPYRIGHT 1990-1993 BY WORLD LIBRARY, INC., AND IS\\nPROVIDED BY PROJECT GUTENBERG ETEXT OF ILLINOIS BENEDICTINE COLLEGE\\nWITH PERMISSION.  ELECTRONIC AND MACHINE READABLE COPIES MAY BE\\nDISTRIBUTED SO LONG AS SUCH COPIES (1) ARE FOR YOUR OR OTHERS\\nPERSONAL USE ONLY, AND (2) ARE NOT DISTRIBUTED OR USED\\nCOMMERCIALLY.  PROHIBITED COMMERCIAL DISTRIBUTION INCLUDES BY ANY\\nSERVICE THAT CHARGES FOR DOWNLOAD TIME OR FOR MEMBERSHIP.>>\\n\\n*Project Gutenberg is proud to cooperate with The World Library*\\nin the presentation of The Complete Works of William Shakespeare\\nfor your reading for education and entertainment.  HOWEVER, THIS\\nIS NEITHER SHAREWARE NOR PUBLIC DOMAIN. . .AND UNDER THE LIBRARY\\nOF THE FUTURE CONDITIONS OF THIS PRESENTATION. . .NO CHARGES MAY\\nBE MADE FOR *ANY* ACCESS TO THIS MATERIAL.  YOU ARE ENCOURAGED!!\\nTO GIVE IT AWAY TO ANYONE YOU LIKE, BUT NO CHARGES ARE ALLOWED!!\\n\\n\\n**Welcome To The World of Free Plain Vanilla Electronic Texts**\\n\\n**Etexts Readable By Both Humans and By Computers, Since 1971**\\n\\n*These Etexts Prepared By Hundreds of Volunteers and Donations*\\n\\nInforma'"
            ],
            "application/vnd.google.colaboratory.intrinsic+json": {
              "type": "string"
            }
          },
          "metadata": {},
          "execution_count": 31
        }
      ]
    },
    {
      "cell_type": "code",
      "source": [
        "data = response.text.split('\\n')\n",
        "data[0]"
      ],
      "metadata": {
        "colab": {
          "base_uri": "https://localhost:8080/",
          "height": 35
        },
        "id": "1u426ymJbPXD",
        "outputId": "6c019ac3-bfc0-4461-d765-7fcf6640ef8e"
      },
      "execution_count": 32,
      "outputs": [
        {
          "output_type": "execute_result",
          "data": {
            "text/plain": [
              "'This is the 100th Etext file presented by Project Gutenberg, and'"
            ],
            "application/vnd.google.colaboratory.intrinsic+json": {
              "type": "string"
            }
          },
          "metadata": {},
          "execution_count": 32
        }
      ]
    },
    {
      "cell_type": "code",
      "source": [
        "data = data[253:2799]\n",
        "data[0]"
      ],
      "metadata": {
        "colab": {
          "base_uri": "https://localhost:8080/",
          "height": 35
        },
        "id": "rBCGjUl7bbj4",
        "outputId": "2415d7d2-0911-495e-ba96-4eb26d61cd4e"
      },
      "execution_count": 33,
      "outputs": [
        {
          "output_type": "execute_result",
          "data": {
            "text/plain": [
              "'  From fairest creatures we desire increase,'"
            ],
            "application/vnd.google.colaboratory.intrinsic+json": {
              "type": "string"
            }
          },
          "metadata": {},
          "execution_count": 33
        }
      ]
    },
    {
      "cell_type": "code",
      "source": [
        "data = \" \".join(data) #removes newline character\n",
        "data[:1000]"
      ],
      "metadata": {
        "colab": {
          "base_uri": "https://localhost:8080/",
          "height": 139
        },
        "id": "IX0p8lr5bj4y",
        "outputId": "c6a422b0-66a3-40ac-e6e7-95540e240ba4"
      },
      "execution_count": 34,
      "outputs": [
        {
          "output_type": "execute_result",
          "data": {
            "text/plain": [
              "\"  From fairest creatures we desire increase,   That thereby beauty's rose might never die,   But as the riper should by time decease,   His tender heir might bear his memory:   But thou contracted to thine own bright eyes,   Feed'st thy light's flame with self-substantial fuel,   Making a famine where abundance lies,   Thy self thy foe, to thy sweet self too cruel:   Thou that art now the world's fresh ornament,   And only herald to the gaudy spring,   Within thine own bud buriest thy content,   And tender churl mak'st waste in niggarding:     Pity the world, or else this glutton be,     To eat the world's due, by the grave and thee.                        2   When forty winters shall besiege thy brow,   And dig deep trenches in thy beauty's field,   Thy youth's proud livery so gazed on now,   Will be a tattered weed of small worth held:     Then being asked, where all thy beauty lies,   Where all the treasure of thy lusty days;   To say within thine own deep sunken eyes,   Were an all\""
            ],
            "application/vnd.google.colaboratory.intrinsic+json": {
              "type": "string"
            }
          },
          "metadata": {},
          "execution_count": 34
        }
      ]
    },
    {
      "cell_type": "markdown",
      "source": [
        "##Data Cleaning"
      ],
      "metadata": {
        "id": "2UxvWLXQbqW1"
      }
    },
    {
      "cell_type": "code",
      "source": [
        "def clean_text(doc):\n",
        "  tokens = doc.split()\n",
        "  table = str.maketrans('', '', string.punctuation)\n",
        "  tokens = [w.translate(table) for w in tokens]\n",
        "  tokens = [word for word in tokens if word.isalpha()]\n",
        "  tokens = [word.lower() for word in tokens]\n",
        "  return tokens\n",
        "\n",
        "tokens = clean_text(data)\n",
        "print(tokens[:50])"
      ],
      "metadata": {
        "colab": {
          "base_uri": "https://localhost:8080/"
        },
        "id": "WxTdjQoSbuIn",
        "outputId": "b90fd868-65a8-4e0a-81c8-e8c5a6ec7cd3"
      },
      "execution_count": 35,
      "outputs": [
        {
          "output_type": "stream",
          "name": "stdout",
          "text": [
            "['from', 'fairest', 'creatures', 'we', 'desire', 'increase', 'that', 'thereby', 'beautys', 'rose', 'might', 'never', 'die', 'but', 'as', 'the', 'riper', 'should', 'by', 'time', 'decease', 'his', 'tender', 'heir', 'might', 'bear', 'his', 'memory', 'but', 'thou', 'contracted', 'to', 'thine', 'own', 'bright', 'eyes', 'feedst', 'thy', 'lights', 'flame', 'with', 'selfsubstantial', 'fuel', 'making', 'a', 'famine', 'where', 'abundance', 'lies', 'thy']\n"
          ]
        }
      ]
    },
    {
      "cell_type": "markdown",
      "source": [
        "##Data Exploration"
      ],
      "metadata": {
        "id": "HaiSeqLnclH_"
      }
    },
    {
      "cell_type": "code",
      "source": [
        "len(tokens)"
      ],
      "metadata": {
        "colab": {
          "base_uri": "https://localhost:8080/"
        },
        "id": "CYuR3nwLb5IR",
        "outputId": "7e1ca110-83cc-4d06-e24b-de42365075e9"
      },
      "execution_count": 36,
      "outputs": [
        {
          "output_type": "execute_result",
          "data": {
            "text/plain": [
              "17123"
            ]
          },
          "metadata": {},
          "execution_count": 36
        }
      ]
    },
    {
      "cell_type": "code",
      "source": [
        "len(set(tokens)) #unique tokens"
      ],
      "metadata": {
        "colab": {
          "base_uri": "https://localhost:8080/"
        },
        "id": "sZOY8Du7b5zQ",
        "outputId": "7bbf25a4-89ae-4cba-8b1e-e9034015314e"
      },
      "execution_count": 37,
      "outputs": [
        {
          "output_type": "execute_result",
          "data": {
            "text/plain": [
              "3121"
            ]
          },
          "metadata": {},
          "execution_count": 37
        }
      ]
    },
    {
      "cell_type": "markdown",
      "source": [
        "To be precise we are going to use a set of 50 words to predict the 51st word. Hence we are going to divide our data in chunks of 51 words and at the last we will separate the last word from every line. We are going to limit our dataset to 200000 words."
      ],
      "metadata": {
        "id": "Et-8WBKncFdv"
      }
    },
    {
      "cell_type": "code",
      "source": [
        "length = 50 + 1\n",
        "lines = []\n",
        "\n",
        "for i in range(length, len(tokens)):\n",
        "  seq = tokens[i-length:i]\n",
        "  line = ' '.join(seq)\n",
        "  lines.append(line)\n",
        "  if i > 200000:\n",
        "    break\n",
        "\n",
        "print(len(lines))"
      ],
      "metadata": {
        "colab": {
          "base_uri": "https://localhost:8080/"
        },
        "id": "h61iryEFcGaz",
        "outputId": "0258770c-a105-4cec-8836-3c4f25f76e61"
      },
      "execution_count": 38,
      "outputs": [
        {
          "output_type": "stream",
          "name": "stdout",
          "text": [
            "17072\n"
          ]
        }
      ]
    },
    {
      "cell_type": "markdown",
      "source": [
        "Now we will see the first line consisting of 51 words."
      ],
      "metadata": {
        "id": "HdSQl5D9cT5I"
      }
    },
    {
      "cell_type": "code",
      "source": [
        "lines[0]"
      ],
      "metadata": {
        "colab": {
          "base_uri": "https://localhost:8080/",
          "height": 70
        },
        "id": "giED_ds6cUxx",
        "outputId": "7a6500e6-6a02-4766-9be8-690539d16aab"
      },
      "execution_count": 39,
      "outputs": [
        {
          "output_type": "execute_result",
          "data": {
            "text/plain": [
              "'from fairest creatures we desire increase that thereby beautys rose might never die but as the riper should by time decease his tender heir might bear his memory but thou contracted to thine own bright eyes feedst thy lights flame with selfsubstantial fuel making a famine where abundance lies thy self'"
            ],
            "application/vnd.google.colaboratory.intrinsic+json": {
              "type": "string"
            }
          },
          "metadata": {},
          "execution_count": 39
        }
      ]
    },
    {
      "cell_type": "code",
      "source": [
        "tokens[50]"
      ],
      "metadata": {
        "colab": {
          "base_uri": "https://localhost:8080/",
          "height": 35
        },
        "id": "hZNT2e5jcaGz",
        "outputId": "f7494ee5-57cc-4799-d216-5604dc756282"
      },
      "execution_count": 40,
      "outputs": [
        {
          "output_type": "execute_result",
          "data": {
            "text/plain": [
              "'self'"
            ],
            "application/vnd.google.colaboratory.intrinsic+json": {
              "type": "string"
            }
          },
          "metadata": {},
          "execution_count": 40
        }
      ]
    },
    {
      "cell_type": "markdown",
      "source": [
        "##Model Building"
      ],
      "metadata": {
        "id": "prDdbSn9cwW6"
      }
    },
    {
      "cell_type": "code",
      "source": [
        "import numpy as np\n",
        "from tensorflow.keras.preprocessing.text import Tokenizer\n",
        "from tensorflow.keras.utils import to_categorical\n",
        "from tensorflow.keras.models import Sequential\n",
        "from tensorflow.keras.layers import Dense, LSTM, Embedding\n",
        "from tensorflow.keras.preprocessing.sequence import pad_sequences\n",
        "from tensorflow.keras.callbacks import ModelCheckpoint"
      ],
      "metadata": {
        "id": "7VjT7e9UczxZ"
      },
      "execution_count": 41,
      "outputs": []
    },
    {
      "cell_type": "markdown",
      "source": [
        "Tokenization : to create a unique numerical token for each unique word in the dataset."
      ],
      "metadata": {
        "id": "ekdQ86v_dDnv"
      }
    },
    {
      "cell_type": "code",
      "source": [
        "tokenizer = Tokenizer()\n",
        "tokenizer.fit_on_texts(lines)\n",
        "sequences = tokenizer.texts_to_sequences(lines)\n",
        "sequences = np.array(sequences)\n",
        "X, y = sequences[:, :-1], sequences[:,-1] #split each line such that the first 50 words are in X and the last word is in y.\n",
        "X[0]"
      ],
      "metadata": {
        "colab": {
          "base_uri": "https://localhost:8080/"
        },
        "id": "pcsJFvf9dOU2",
        "outputId": "501c0016-c01b-4f9a-f1f7-60c96303d974"
      },
      "execution_count": 42,
      "outputs": [
        {
          "output_type": "execute_result",
          "data": {
            "text/plain": [
              "array([  35,  611, 1321,  171,  244,  610,    7, 1320,  138,  399,  104,\n",
              "        170,  205,   16,   22,    2, 1319,   64,   32,   51,  833,   28,\n",
              "        333,  832,  104,  204,   28,  297,   16,   10, 1318,    3,   63,\n",
              "         86,  223,   50, 3119,    9, 3118,  830,   11, 3116, 3115,  203,\n",
              "         18, 3114,   72,  608,  222,    9])"
            ]
          },
          "metadata": {},
          "execution_count": 42
        }
      ]
    },
    {
      "cell_type": "code",
      "source": [
        "vocab_size = len(tokenizer.word_index) + 1 #contains all the uniques words in the dataset."
      ],
      "metadata": {
        "id": "fADACPuedpsZ"
      },
      "execution_count": 43,
      "outputs": []
    },
    {
      "cell_type": "code",
      "source": [
        "y = to_categorical(y, num_classes=vocab_size) # converts a class vector (integers) to binary class matrix. "
      ],
      "metadata": {
        "id": "0CyXmRtEdzx8"
      },
      "execution_count": 44,
      "outputs": []
    },
    {
      "cell_type": "code",
      "source": [
        "seq_length = X.shape[1]\n",
        "seq_length"
      ],
      "metadata": {
        "colab": {
          "base_uri": "https://localhost:8080/"
        },
        "id": "tZGjHWJbd862",
        "outputId": "1adfd6bf-8795-4f02-967f-05393bd69bf9"
      },
      "execution_count": 45,
      "outputs": [
        {
          "output_type": "execute_result",
          "data": {
            "text/plain": [
              "50"
            ]
          },
          "metadata": {},
          "execution_count": 45
        }
      ]
    },
    {
      "cell_type": "markdown",
      "source": [
        "LSTM Model"
      ],
      "metadata": {
        "id": "87wf0ltfeGOr"
      }
    },
    {
      "cell_type": "code",
      "source": [
        "model = Sequential()\n",
        "model.add(Embedding(vocab_size, 50, input_length=seq_length))\n",
        "model.add(LSTM(100, return_sequences=True))\n",
        "model.add(LSTM(100))\n",
        "model.add(Dense(100, activation='relu'))\n",
        "model.add(Dense(vocab_size, activation='softmax'))"
      ],
      "metadata": {
        "id": "bDt7BhcJeM8W"
      },
      "execution_count": 46,
      "outputs": []
    },
    {
      "cell_type": "code",
      "source": [
        "model.summary()"
      ],
      "metadata": {
        "colab": {
          "base_uri": "https://localhost:8080/"
        },
        "id": "5dil9UmLeP0N",
        "outputId": "6aa2790e-8ced-47b3-dad1-1e5df40f5994"
      },
      "execution_count": 47,
      "outputs": [
        {
          "output_type": "stream",
          "name": "stdout",
          "text": [
            "Model: \"sequential_1\"\n",
            "_________________________________________________________________\n",
            " Layer (type)                Output Shape              Param #   \n",
            "=================================================================\n",
            " embedding_1 (Embedding)     (None, 50, 50)            156100    \n",
            "                                                                 \n",
            " lstm_2 (LSTM)               (None, 50, 100)           60400     \n",
            "                                                                 \n",
            " lstm_3 (LSTM)               (None, 100)               80400     \n",
            "                                                                 \n",
            " dense_2 (Dense)             (None, 100)               10100     \n",
            "                                                                 \n",
            " dense_3 (Dense)             (None, 3122)              315322    \n",
            "                                                                 \n",
            "=================================================================\n",
            "Total params: 622,322\n",
            "Trainable params: 622,322\n",
            "Non-trainable params: 0\n",
            "_________________________________________________________________\n"
          ]
        }
      ]
    },
    {
      "cell_type": "code",
      "source": [
        "model.compile(loss = 'categorical_crossentropy', optimizer = 'adam', metrics = ['accuracy'])\n",
        "filepath = \"./model_2_weights.hdf5\"\n",
        "checkpoint = ModelCheckpoint(filepath, monitor='loss', verbose=1, save_best_only=True, mode='min')\n",
        "callbacks_list = [checkpoint]"
      ],
      "metadata": {
        "id": "kYc6JRlyeUAK"
      },
      "execution_count": 48,
      "outputs": []
    },
    {
      "cell_type": "code",
      "source": [
        "import tensorflow as tf\n",
        "tf.config.list_physical_devices('GPU')\n",
        "\n"
      ],
      "metadata": {
        "id": "KkdkOI7Gte1K",
        "colab": {
          "base_uri": "https://localhost:8080/"
        },
        "outputId": "203db37b-4a57-40e4-da0c-2fa9adaf6866"
      },
      "execution_count": 49,
      "outputs": [
        {
          "output_type": "execute_result",
          "data": {
            "text/plain": [
              "[PhysicalDevice(name='/physical_device:GPU:0', device_type='GPU')]"
            ]
          },
          "metadata": {},
          "execution_count": 49
        }
      ]
    },
    {
      "cell_type": "code",
      "source": [
        "history = model.fit(np.asarray(X), y, batch_size = 128, epochs = 100,callbacks = callbacks_list,verbose = 1)"
      ],
      "metadata": {
        "id": "IeBU7hB1eZzQ",
        "colab": {
          "base_uri": "https://localhost:8080/"
        },
        "outputId": "b36ce5be-f5c9-46c7-cbd0-50ad8e3823fd"
      },
      "execution_count": 50,
      "outputs": [
        {
          "output_type": "stream",
          "name": "stdout",
          "text": [
            "Epoch 1/100\n",
            "134/134 [==============================] - ETA: 0s - loss: 6.8574 - accuracy: 0.0221\n",
            "Epoch 1: loss improved from inf to 6.85738, saving model to ./model_2_weights.hdf5\n",
            "134/134 [==============================] - 24s 143ms/step - loss: 6.8574 - accuracy: 0.0221\n",
            "Epoch 2/100\n",
            "134/134 [==============================] - ETA: 0s - loss: 6.4652 - accuracy: 0.0263\n",
            "Epoch 2: loss improved from 6.85738 to 6.46524, saving model to ./model_2_weights.hdf5\n",
            "134/134 [==============================] - 10s 76ms/step - loss: 6.4652 - accuracy: 0.0263\n",
            "Epoch 3/100\n",
            "134/134 [==============================] - ETA: 0s - loss: 6.3842 - accuracy: 0.0275\n",
            "Epoch 3: loss improved from 6.46524 to 6.38422, saving model to ./model_2_weights.hdf5\n",
            "134/134 [==============================] - 6s 45ms/step - loss: 6.3842 - accuracy: 0.0275\n",
            "Epoch 4/100\n",
            "134/134 [==============================] - ETA: 0s - loss: 6.3121 - accuracy: 0.0277\n",
            "Epoch 4: loss improved from 6.38422 to 6.31206, saving model to ./model_2_weights.hdf5\n",
            "134/134 [==============================] - 4s 31ms/step - loss: 6.3121 - accuracy: 0.0277\n",
            "Epoch 5/100\n",
            "134/134 [==============================] - ETA: 0s - loss: 6.2091 - accuracy: 0.0328\n",
            "Epoch 5: loss improved from 6.31206 to 6.20906, saving model to ./model_2_weights.hdf5\n",
            "134/134 [==============================] - 3s 25ms/step - loss: 6.2091 - accuracy: 0.0328\n",
            "Epoch 6/100\n",
            "134/134 [==============================] - ETA: 0s - loss: 6.1106 - accuracy: 0.0363\n",
            "Epoch 6: loss improved from 6.20906 to 6.11057, saving model to ./model_2_weights.hdf5\n",
            "134/134 [==============================] - 3s 23ms/step - loss: 6.1106 - accuracy: 0.0363\n",
            "Epoch 7/100\n",
            "134/134 [==============================] - ETA: 0s - loss: 6.0381 - accuracy: 0.0368\n",
            "Epoch 7: loss improved from 6.11057 to 6.03808, saving model to ./model_2_weights.hdf5\n",
            "134/134 [==============================] - 2s 19ms/step - loss: 6.0381 - accuracy: 0.0368\n",
            "Epoch 8/100\n",
            "134/134 [==============================] - ETA: 0s - loss: 5.9763 - accuracy: 0.0382\n",
            "Epoch 8: loss improved from 6.03808 to 5.97634, saving model to ./model_2_weights.hdf5\n",
            "134/134 [==============================] - 3s 21ms/step - loss: 5.9763 - accuracy: 0.0382\n",
            "Epoch 9/100\n",
            "134/134 [==============================] - ETA: 0s - loss: 5.9127 - accuracy: 0.0392\n",
            "Epoch 9: loss improved from 5.97634 to 5.91275, saving model to ./model_2_weights.hdf5\n",
            "134/134 [==============================] - 3s 21ms/step - loss: 5.9127 - accuracy: 0.0392\n",
            "Epoch 10/100\n",
            "134/134 [==============================] - ETA: 0s - loss: 5.8533 - accuracy: 0.0410\n",
            "Epoch 10: loss improved from 5.91275 to 5.85329, saving model to ./model_2_weights.hdf5\n",
            "134/134 [==============================] - 2s 15ms/step - loss: 5.8533 - accuracy: 0.0410\n",
            "Epoch 11/100\n",
            "134/134 [==============================] - ETA: 0s - loss: 5.8030 - accuracy: 0.0406\n",
            "Epoch 11: loss improved from 5.85329 to 5.80302, saving model to ./model_2_weights.hdf5\n",
            "134/134 [==============================] - 2s 13ms/step - loss: 5.8030 - accuracy: 0.0406\n",
            "Epoch 12/100\n",
            "134/134 [==============================] - ETA: 0s - loss: 5.7557 - accuracy: 0.0438\n",
            "Epoch 12: loss improved from 5.80302 to 5.75570, saving model to ./model_2_weights.hdf5\n",
            "134/134 [==============================] - 3s 21ms/step - loss: 5.7557 - accuracy: 0.0438\n",
            "Epoch 13/100\n",
            "134/134 [==============================] - ETA: 0s - loss: 5.7089 - accuracy: 0.0457\n",
            "Epoch 13: loss improved from 5.75570 to 5.70892, saving model to ./model_2_weights.hdf5\n",
            "134/134 [==============================] - 2s 16ms/step - loss: 5.7089 - accuracy: 0.0457\n",
            "Epoch 14/100\n",
            "134/134 [==============================] - ETA: 0s - loss: 5.6566 - accuracy: 0.0477\n",
            "Epoch 14: loss improved from 5.70892 to 5.65660, saving model to ./model_2_weights.hdf5\n",
            "134/134 [==============================] - 2s 13ms/step - loss: 5.6566 - accuracy: 0.0477\n",
            "Epoch 15/100\n",
            "134/134 [==============================] - ETA: 0s - loss: 5.7743 - accuracy: 0.0416\n",
            "Epoch 15: loss did not improve from 5.65660\n",
            "134/134 [==============================] - 2s 13ms/step - loss: 5.7743 - accuracy: 0.0416\n",
            "Epoch 16/100\n",
            "134/134 [==============================] - ETA: 0s - loss: 5.6230 - accuracy: 0.0460\n",
            "Epoch 16: loss improved from 5.65660 to 5.62295, saving model to ./model_2_weights.hdf5\n",
            "134/134 [==============================] - 2s 16ms/step - loss: 5.6230 - accuracy: 0.0460\n",
            "Epoch 17/100\n",
            "134/134 [==============================] - ETA: 0s - loss: 5.5497 - accuracy: 0.0490\n",
            "Epoch 17: loss improved from 5.62295 to 5.54974, saving model to ./model_2_weights.hdf5\n",
            "134/134 [==============================] - 2s 13ms/step - loss: 5.5497 - accuracy: 0.0490\n",
            "Epoch 18/100\n",
            "134/134 [==============================] - ETA: 0s - loss: 5.4825 - accuracy: 0.0556\n",
            "Epoch 18: loss improved from 5.54974 to 5.48251, saving model to ./model_2_weights.hdf5\n",
            "134/134 [==============================] - 2s 18ms/step - loss: 5.4825 - accuracy: 0.0556\n",
            "Epoch 19/100\n",
            "134/134 [==============================] - ETA: 0s - loss: 5.4170 - accuracy: 0.0571\n",
            "Epoch 19: loss improved from 5.48251 to 5.41695, saving model to ./model_2_weights.hdf5\n",
            "134/134 [==============================] - 2s 15ms/step - loss: 5.4170 - accuracy: 0.0571\n",
            "Epoch 20/100\n",
            "134/134 [==============================] - ETA: 0s - loss: 5.3522 - accuracy: 0.0626\n",
            "Epoch 20: loss improved from 5.41695 to 5.35217, saving model to ./model_2_weights.hdf5\n",
            "134/134 [==============================] - 3s 20ms/step - loss: 5.3522 - accuracy: 0.0626\n",
            "Epoch 21/100\n",
            "134/134 [==============================] - ETA: 0s - loss: 5.2863 - accuracy: 0.0664\n",
            "Epoch 21: loss improved from 5.35217 to 5.28634, saving model to ./model_2_weights.hdf5\n",
            "134/134 [==============================] - 2s 13ms/step - loss: 5.2863 - accuracy: 0.0664\n",
            "Epoch 22/100\n",
            "131/134 [============================>.] - ETA: 0s - loss: 5.2085 - accuracy: 0.0676\n",
            "Epoch 22: loss improved from 5.28634 to 5.21092, saving model to ./model_2_weights.hdf5\n",
            "134/134 [==============================] - 2s 13ms/step - loss: 5.2109 - accuracy: 0.0673\n",
            "Epoch 23/100\n",
            "134/134 [==============================] - ETA: 0s - loss: 5.1383 - accuracy: 0.0747\n",
            "Epoch 23: loss improved from 5.21092 to 5.13834, saving model to ./model_2_weights.hdf5\n",
            "134/134 [==============================] - 2s 12ms/step - loss: 5.1383 - accuracy: 0.0747\n",
            "Epoch 24/100\n",
            "134/134 [==============================] - ETA: 0s - loss: 5.0551 - accuracy: 0.0780\n",
            "Epoch 24: loss improved from 5.13834 to 5.05513, saving model to ./model_2_weights.hdf5\n",
            "134/134 [==============================] - 2s 15ms/step - loss: 5.0551 - accuracy: 0.0780\n",
            "Epoch 25/100\n",
            "134/134 [==============================] - ETA: 0s - loss: 4.9708 - accuracy: 0.0813\n",
            "Epoch 25: loss improved from 5.05513 to 4.97084, saving model to ./model_2_weights.hdf5\n",
            "134/134 [==============================] - 2s 14ms/step - loss: 4.9708 - accuracy: 0.0813\n",
            "Epoch 26/100\n",
            "134/134 [==============================] - ETA: 0s - loss: 4.8917 - accuracy: 0.0822\n",
            "Epoch 26: loss improved from 4.97084 to 4.89173, saving model to ./model_2_weights.hdf5\n",
            "134/134 [==============================] - 2s 13ms/step - loss: 4.8917 - accuracy: 0.0822\n",
            "Epoch 27/100\n",
            "134/134 [==============================] - ETA: 0s - loss: 4.8035 - accuracy: 0.0887\n",
            "Epoch 27: loss improved from 4.89173 to 4.80351, saving model to ./model_2_weights.hdf5\n",
            "134/134 [==============================] - 2s 12ms/step - loss: 4.8035 - accuracy: 0.0887\n",
            "Epoch 28/100\n",
            "134/134 [==============================] - ETA: 0s - loss: 4.7265 - accuracy: 0.0922\n",
            "Epoch 28: loss improved from 4.80351 to 4.72651, saving model to ./model_2_weights.hdf5\n",
            "134/134 [==============================] - 2s 15ms/step - loss: 4.7265 - accuracy: 0.0922\n",
            "Epoch 29/100\n",
            "134/134 [==============================] - ETA: 0s - loss: 4.6375 - accuracy: 0.0941\n",
            "Epoch 29: loss improved from 4.72651 to 4.63748, saving model to ./model_2_weights.hdf5\n",
            "134/134 [==============================] - 2s 15ms/step - loss: 4.6375 - accuracy: 0.0941\n",
            "Epoch 30/100\n",
            "131/134 [============================>.] - ETA: 0s - loss: 4.5429 - accuracy: 0.0991\n",
            "Epoch 30: loss improved from 4.63748 to 4.54534, saving model to ./model_2_weights.hdf5\n",
            "134/134 [==============================] - 1s 11ms/step - loss: 4.5453 - accuracy: 0.0991\n",
            "Epoch 31/100\n",
            "134/134 [==============================] - ETA: 0s - loss: 4.4700 - accuracy: 0.1003\n",
            "Epoch 31: loss improved from 4.54534 to 4.47003, saving model to ./model_2_weights.hdf5\n",
            "134/134 [==============================] - 2s 15ms/step - loss: 4.4700 - accuracy: 0.1003\n",
            "Epoch 32/100\n",
            "131/134 [============================>.] - ETA: 0s - loss: 4.3849 - accuracy: 0.1076\n",
            "Epoch 32: loss improved from 4.47003 to 4.38599, saving model to ./model_2_weights.hdf5\n",
            "134/134 [==============================] - 2s 13ms/step - loss: 4.3860 - accuracy: 0.1075\n",
            "Epoch 33/100\n",
            "134/134 [==============================] - ETA: 0s - loss: 4.3061 - accuracy: 0.1149\n",
            "Epoch 33: loss improved from 4.38599 to 4.30610, saving model to ./model_2_weights.hdf5\n",
            "134/134 [==============================] - 2s 12ms/step - loss: 4.3061 - accuracy: 0.1149\n",
            "Epoch 34/100\n",
            "134/134 [==============================] - ETA: 0s - loss: 4.2262 - accuracy: 0.1258\n",
            "Epoch 34: loss improved from 4.30610 to 4.22621, saving model to ./model_2_weights.hdf5\n",
            "134/134 [==============================] - 2s 12ms/step - loss: 4.2262 - accuracy: 0.1258\n",
            "Epoch 35/100\n",
            "133/134 [============================>.] - ETA: 0s - loss: 4.1445 - accuracy: 0.1323\n",
            "Epoch 35: loss improved from 4.22621 to 4.14459, saving model to ./model_2_weights.hdf5\n",
            "134/134 [==============================] - 1s 10ms/step - loss: 4.1446 - accuracy: 0.1324\n",
            "Epoch 36/100\n",
            "134/134 [==============================] - ETA: 0s - loss: 4.0674 - accuracy: 0.1404\n",
            "Epoch 36: loss improved from 4.14459 to 4.06740, saving model to ./model_2_weights.hdf5\n",
            "134/134 [==============================] - 2s 12ms/step - loss: 4.0674 - accuracy: 0.1404\n",
            "Epoch 37/100\n",
            "134/134 [==============================] - ETA: 0s - loss: 3.9812 - accuracy: 0.1520\n",
            "Epoch 37: loss improved from 4.06740 to 3.98119, saving model to ./model_2_weights.hdf5\n",
            "134/134 [==============================] - 2s 12ms/step - loss: 3.9812 - accuracy: 0.1520\n",
            "Epoch 38/100\n",
            "134/134 [==============================] - ETA: 0s - loss: 3.9088 - accuracy: 0.1616\n",
            "Epoch 38: loss improved from 3.98119 to 3.90878, saving model to ./model_2_weights.hdf5\n",
            "134/134 [==============================] - 2s 17ms/step - loss: 3.9088 - accuracy: 0.1616\n",
            "Epoch 39/100\n",
            "134/134 [==============================] - ETA: 0s - loss: 3.8210 - accuracy: 0.1758\n",
            "Epoch 39: loss improved from 3.90878 to 3.82101, saving model to ./model_2_weights.hdf5\n",
            "134/134 [==============================] - 2s 13ms/step - loss: 3.8210 - accuracy: 0.1758\n",
            "Epoch 40/100\n",
            "134/134 [==============================] - ETA: 0s - loss: 3.7392 - accuracy: 0.1856\n",
            "Epoch 40: loss improved from 3.82101 to 3.73921, saving model to ./model_2_weights.hdf5\n",
            "134/134 [==============================] - 2s 12ms/step - loss: 3.7392 - accuracy: 0.1856\n",
            "Epoch 41/100\n",
            "131/134 [============================>.] - ETA: 0s - loss: 3.6645 - accuracy: 0.2007\n",
            "Epoch 41: loss improved from 3.73921 to 3.66862, saving model to ./model_2_weights.hdf5\n",
            "134/134 [==============================] - 2s 12ms/step - loss: 3.6686 - accuracy: 0.1997\n",
            "Epoch 42/100\n",
            "132/134 [============================>.] - ETA: 0s - loss: 3.5851 - accuracy: 0.2059\n",
            "Epoch 42: loss improved from 3.66862 to 3.58553, saving model to ./model_2_weights.hdf5\n",
            "134/134 [==============================] - 1s 10ms/step - loss: 3.5855 - accuracy: 0.2062\n",
            "Epoch 43/100\n",
            "132/134 [============================>.] - ETA: 0s - loss: 3.4980 - accuracy: 0.2244\n",
            "Epoch 43: loss improved from 3.58553 to 3.49768, saving model to ./model_2_weights.hdf5\n",
            "134/134 [==============================] - 2s 12ms/step - loss: 3.4977 - accuracy: 0.2245\n",
            "Epoch 44/100\n",
            "134/134 [==============================] - ETA: 0s - loss: 3.4250 - accuracy: 0.2394\n",
            "Epoch 44: loss improved from 3.49768 to 3.42501, saving model to ./model_2_weights.hdf5\n",
            "134/134 [==============================] - 2s 12ms/step - loss: 3.4250 - accuracy: 0.2394\n",
            "Epoch 45/100\n",
            "132/134 [============================>.] - ETA: 0s - loss: 3.3381 - accuracy: 0.2531\n",
            "Epoch 45: loss improved from 3.42501 to 3.34000, saving model to ./model_2_weights.hdf5\n",
            "134/134 [==============================] - 1s 11ms/step - loss: 3.3400 - accuracy: 0.2532\n",
            "Epoch 46/100\n",
            "134/134 [==============================] - ETA: 0s - loss: 3.2628 - accuracy: 0.2659\n",
            "Epoch 46: loss improved from 3.34000 to 3.26281, saving model to ./model_2_weights.hdf5\n",
            "134/134 [==============================] - 3s 19ms/step - loss: 3.2628 - accuracy: 0.2659\n",
            "Epoch 47/100\n",
            "134/134 [==============================] - ETA: 0s - loss: 3.1903 - accuracy: 0.2792\n",
            "Epoch 47: loss improved from 3.26281 to 3.19033, saving model to ./model_2_weights.hdf5\n",
            "134/134 [==============================] - 2s 15ms/step - loss: 3.1903 - accuracy: 0.2792\n",
            "Epoch 48/100\n",
            "134/134 [==============================] - ETA: 0s - loss: 3.1193 - accuracy: 0.2913\n",
            "Epoch 48: loss improved from 3.19033 to 3.11926, saving model to ./model_2_weights.hdf5\n",
            "134/134 [==============================] - 2s 12ms/step - loss: 3.1193 - accuracy: 0.2913\n",
            "Epoch 49/100\n",
            "129/134 [===========================>..] - ETA: 0s - loss: 3.0382 - accuracy: 0.3060\n",
            "Epoch 49: loss improved from 3.11926 to 3.04332, saving model to ./model_2_weights.hdf5\n",
            "134/134 [==============================] - 1s 10ms/step - loss: 3.0433 - accuracy: 0.3044\n",
            "Epoch 50/100\n",
            "134/134 [==============================] - ETA: 0s - loss: 2.9794 - accuracy: 0.3109\n",
            "Epoch 50: loss improved from 3.04332 to 2.97943, saving model to ./model_2_weights.hdf5\n",
            "134/134 [==============================] - 2s 12ms/step - loss: 2.9794 - accuracy: 0.3109\n",
            "Epoch 51/100\n",
            "134/134 [==============================] - ETA: 0s - loss: 2.9034 - accuracy: 0.3301\n",
            "Epoch 51: loss improved from 2.97943 to 2.90337, saving model to ./model_2_weights.hdf5\n",
            "134/134 [==============================] - 2s 13ms/step - loss: 2.9034 - accuracy: 0.3301\n",
            "Epoch 52/100\n",
            "134/134 [==============================] - ETA: 0s - loss: 2.8369 - accuracy: 0.3418\n",
            "Epoch 52: loss improved from 2.90337 to 2.83687, saving model to ./model_2_weights.hdf5\n",
            "134/134 [==============================] - 2s 13ms/step - loss: 2.8369 - accuracy: 0.3418\n",
            "Epoch 53/100\n",
            "134/134 [==============================] - ETA: 0s - loss: 2.7649 - accuracy: 0.3551\n",
            "Epoch 53: loss improved from 2.83687 to 2.76494, saving model to ./model_2_weights.hdf5\n",
            "134/134 [==============================] - 2s 15ms/step - loss: 2.7649 - accuracy: 0.3551\n",
            "Epoch 54/100\n",
            "134/134 [==============================] - ETA: 0s - loss: 2.7016 - accuracy: 0.3704\n",
            "Epoch 54: loss improved from 2.76494 to 2.70165, saving model to ./model_2_weights.hdf5\n",
            "134/134 [==============================] - 2s 12ms/step - loss: 2.7016 - accuracy: 0.3704\n",
            "Epoch 55/100\n",
            "134/134 [==============================] - ETA: 0s - loss: 2.6385 - accuracy: 0.3814\n",
            "Epoch 55: loss improved from 2.70165 to 2.63848, saving model to ./model_2_weights.hdf5\n",
            "134/134 [==============================] - 2s 12ms/step - loss: 2.6385 - accuracy: 0.3814\n",
            "Epoch 56/100\n",
            "134/134 [==============================] - ETA: 0s - loss: 2.5735 - accuracy: 0.3911\n",
            "Epoch 56: loss improved from 2.63848 to 2.57352, saving model to ./model_2_weights.hdf5\n",
            "134/134 [==============================] - 2s 13ms/step - loss: 2.5735 - accuracy: 0.3911\n",
            "Epoch 57/100\n",
            "134/134 [==============================] - ETA: 0s - loss: 2.5079 - accuracy: 0.4078\n",
            "Epoch 57: loss improved from 2.57352 to 2.50790, saving model to ./model_2_weights.hdf5\n",
            "134/134 [==============================] - 2s 12ms/step - loss: 2.5079 - accuracy: 0.4078\n",
            "Epoch 58/100\n",
            "130/134 [============================>.] - ETA: 0s - loss: 2.4480 - accuracy: 0.4160\n",
            "Epoch 58: loss improved from 2.50790 to 2.45148, saving model to ./model_2_weights.hdf5\n",
            "134/134 [==============================] - 2s 14ms/step - loss: 2.4515 - accuracy: 0.4156\n",
            "Epoch 59/100\n",
            "133/134 [============================>.] - ETA: 0s - loss: 2.3943 - accuracy: 0.4292\n",
            "Epoch 59: loss improved from 2.45148 to 2.39576, saving model to ./model_2_weights.hdf5\n",
            "134/134 [==============================] - 2s 13ms/step - loss: 2.3958 - accuracy: 0.4287\n",
            "Epoch 60/100\n",
            "134/134 [==============================] - ETA: 0s - loss: 2.3389 - accuracy: 0.4427\n",
            "Epoch 60: loss improved from 2.39576 to 2.33894, saving model to ./model_2_weights.hdf5\n",
            "134/134 [==============================] - 2s 16ms/step - loss: 2.3389 - accuracy: 0.4427\n",
            "Epoch 61/100\n",
            "131/134 [============================>.] - ETA: 0s - loss: 2.2745 - accuracy: 0.4558\n",
            "Epoch 61: loss improved from 2.33894 to 2.27967, saving model to ./model_2_weights.hdf5\n",
            "134/134 [==============================] - 2s 12ms/step - loss: 2.2797 - accuracy: 0.4551\n",
            "Epoch 62/100\n",
            "132/134 [============================>.] - ETA: 0s - loss: 2.2298 - accuracy: 0.4644\n",
            "Epoch 62: loss improved from 2.27967 to 2.22914, saving model to ./model_2_weights.hdf5\n",
            "134/134 [==============================] - 1s 11ms/step - loss: 2.2291 - accuracy: 0.4646\n",
            "Epoch 63/100\n",
            "134/134 [==============================] - ETA: 0s - loss: 2.1769 - accuracy: 0.4780\n",
            "Epoch 63: loss improved from 2.22914 to 2.17688, saving model to ./model_2_weights.hdf5\n",
            "134/134 [==============================] - 2s 12ms/step - loss: 2.1769 - accuracy: 0.4780\n",
            "Epoch 64/100\n",
            "134/134 [==============================] - ETA: 0s - loss: 2.1249 - accuracy: 0.4924\n",
            "Epoch 64: loss improved from 2.17688 to 2.12490, saving model to ./model_2_weights.hdf5\n",
            "134/134 [==============================] - 2s 12ms/step - loss: 2.1249 - accuracy: 0.4924\n",
            "Epoch 65/100\n",
            "134/134 [==============================] - ETA: 0s - loss: 2.0715 - accuracy: 0.4994\n",
            "Epoch 65: loss improved from 2.12490 to 2.07152, saving model to ./model_2_weights.hdf5\n",
            "134/134 [==============================] - 2s 13ms/step - loss: 2.0715 - accuracy: 0.4994\n",
            "Epoch 66/100\n",
            "134/134 [==============================] - ETA: 0s - loss: 2.0266 - accuracy: 0.5081\n",
            "Epoch 66: loss improved from 2.07152 to 2.02659, saving model to ./model_2_weights.hdf5\n",
            "134/134 [==============================] - 2s 16ms/step - loss: 2.0266 - accuracy: 0.5081\n",
            "Epoch 67/100\n",
            "132/134 [============================>.] - ETA: 0s - loss: 1.9708 - accuracy: 0.5214\n",
            "Epoch 67: loss improved from 2.02659 to 1.97159, saving model to ./model_2_weights.hdf5\n",
            "134/134 [==============================] - 2s 16ms/step - loss: 1.9716 - accuracy: 0.5214\n",
            "Epoch 68/100\n",
            "134/134 [==============================] - ETA: 0s - loss: 1.9329 - accuracy: 0.5306\n",
            "Epoch 68: loss improved from 1.97159 to 1.93286, saving model to ./model_2_weights.hdf5\n",
            "134/134 [==============================] - 1s 11ms/step - loss: 1.9329 - accuracy: 0.5306\n",
            "Epoch 69/100\n",
            "134/134 [==============================] - ETA: 0s - loss: 1.8821 - accuracy: 0.5416\n",
            "Epoch 69: loss improved from 1.93286 to 1.88208, saving model to ./model_2_weights.hdf5\n",
            "134/134 [==============================] - 2s 12ms/step - loss: 1.8821 - accuracy: 0.5416\n",
            "Epoch 70/100\n",
            "134/134 [==============================] - ETA: 0s - loss: 1.8349 - accuracy: 0.5544\n",
            "Epoch 70: loss improved from 1.88208 to 1.83486, saving model to ./model_2_weights.hdf5\n",
            "134/134 [==============================] - 2s 13ms/step - loss: 1.8349 - accuracy: 0.5544\n",
            "Epoch 71/100\n",
            "134/134 [==============================] - ETA: 0s - loss: 1.7954 - accuracy: 0.5606\n",
            "Epoch 71: loss improved from 1.83486 to 1.79541, saving model to ./model_2_weights.hdf5\n",
            "134/134 [==============================] - 2s 12ms/step - loss: 1.7954 - accuracy: 0.5606\n",
            "Epoch 72/100\n",
            "133/134 [============================>.] - ETA: 0s - loss: 1.7433 - accuracy: 0.5749\n",
            "Epoch 72: loss improved from 1.79541 to 1.74385, saving model to ./model_2_weights.hdf5\n",
            "134/134 [==============================] - 1s 10ms/step - loss: 1.7439 - accuracy: 0.5747\n",
            "Epoch 73/100\n",
            "134/134 [==============================] - ETA: 0s - loss: 1.7041 - accuracy: 0.5860\n",
            "Epoch 73: loss improved from 1.74385 to 1.70410, saving model to ./model_2_weights.hdf5\n",
            "134/134 [==============================] - 2s 12ms/step - loss: 1.7041 - accuracy: 0.5860\n",
            "Epoch 74/100\n",
            "132/134 [============================>.] - ETA: 0s - loss: 1.6634 - accuracy: 0.5920\n",
            "Epoch 74: loss improved from 1.70410 to 1.66541, saving model to ./model_2_weights.hdf5\n",
            "134/134 [==============================] - 2s 13ms/step - loss: 1.6654 - accuracy: 0.5916\n",
            "Epoch 75/100\n",
            "134/134 [==============================] - ETA: 0s - loss: 1.6372 - accuracy: 0.5971\n",
            "Epoch 75: loss improved from 1.66541 to 1.63725, saving model to ./model_2_weights.hdf5\n",
            "134/134 [==============================] - 2s 14ms/step - loss: 1.6372 - accuracy: 0.5971\n",
            "Epoch 76/100\n",
            "134/134 [==============================] - ETA: 0s - loss: 1.5925 - accuracy: 0.6115\n",
            "Epoch 76: loss improved from 1.63725 to 1.59249, saving model to ./model_2_weights.hdf5\n",
            "134/134 [==============================] - 2s 12ms/step - loss: 1.5925 - accuracy: 0.6115\n",
            "Epoch 77/100\n",
            "130/134 [============================>.] - ETA: 0s - loss: 1.5561 - accuracy: 0.6197\n",
            "Epoch 77: loss improved from 1.59249 to 1.55736, saving model to ./model_2_weights.hdf5\n",
            "134/134 [==============================] - 2s 13ms/step - loss: 1.5574 - accuracy: 0.6192\n",
            "Epoch 78/100\n",
            "134/134 [==============================] - ETA: 0s - loss: 1.5200 - accuracy: 0.6265\n",
            "Epoch 78: loss improved from 1.55736 to 1.52000, saving model to ./model_2_weights.hdf5\n",
            "134/134 [==============================] - 1s 11ms/step - loss: 1.5200 - accuracy: 0.6265\n",
            "Epoch 79/100\n",
            "134/134 [==============================] - ETA: 0s - loss: 1.4835 - accuracy: 0.6379\n",
            "Epoch 79: loss improved from 1.52000 to 1.48354, saving model to ./model_2_weights.hdf5\n",
            "134/134 [==============================] - 2s 12ms/step - loss: 1.4835 - accuracy: 0.6379\n",
            "Epoch 80/100\n",
            "134/134 [==============================] - ETA: 0s - loss: 1.4376 - accuracy: 0.6439\n",
            "Epoch 80: loss improved from 1.48354 to 1.43758, saving model to ./model_2_weights.hdf5\n",
            "134/134 [==============================] - 2s 13ms/step - loss: 1.4376 - accuracy: 0.6439\n",
            "Epoch 81/100\n",
            "134/134 [==============================] - ETA: 0s - loss: 1.4089 - accuracy: 0.6522\n",
            "Epoch 81: loss improved from 1.43758 to 1.40891, saving model to ./model_2_weights.hdf5\n",
            "134/134 [==============================] - 2s 14ms/step - loss: 1.4089 - accuracy: 0.6522\n",
            "Epoch 82/100\n",
            "134/134 [==============================] - ETA: 0s - loss: 1.3764 - accuracy: 0.6627\n",
            "Epoch 82: loss improved from 1.40891 to 1.37641, saving model to ./model_2_weights.hdf5\n",
            "134/134 [==============================] - 2s 13ms/step - loss: 1.3764 - accuracy: 0.6627\n",
            "Epoch 83/100\n",
            "130/134 [============================>.] - ETA: 0s - loss: 1.3281 - accuracy: 0.6744\n",
            "Epoch 83: loss improved from 1.37641 to 1.33102, saving model to ./model_2_weights.hdf5\n",
            "134/134 [==============================] - 1s 10ms/step - loss: 1.3310 - accuracy: 0.6740\n",
            "Epoch 84/100\n",
            "134/134 [==============================] - ETA: 0s - loss: 1.3039 - accuracy: 0.6796\n",
            "Epoch 84: loss improved from 1.33102 to 1.30390, saving model to ./model_2_weights.hdf5\n",
            "134/134 [==============================] - 2s 13ms/step - loss: 1.3039 - accuracy: 0.6796\n",
            "Epoch 85/100\n",
            "129/134 [===========================>..] - ETA: 0s - loss: 1.2662 - accuracy: 0.6915\n",
            "Epoch 85: loss improved from 1.30390 to 1.27286, saving model to ./model_2_weights.hdf5\n",
            "134/134 [==============================] - 2s 12ms/step - loss: 1.2729 - accuracy: 0.6900\n",
            "Epoch 86/100\n",
            "134/134 [==============================] - ETA: 0s - loss: 1.2468 - accuracy: 0.6921\n",
            "Epoch 86: loss improved from 1.27286 to 1.24680, saving model to ./model_2_weights.hdf5\n",
            "134/134 [==============================] - 2s 14ms/step - loss: 1.2468 - accuracy: 0.6921\n",
            "Epoch 87/100\n",
            "134/134 [==============================] - ETA: 0s - loss: 1.2094 - accuracy: 0.7076\n",
            "Epoch 87: loss improved from 1.24680 to 1.20937, saving model to ./model_2_weights.hdf5\n",
            "134/134 [==============================] - 2s 12ms/step - loss: 1.2094 - accuracy: 0.7076\n",
            "Epoch 88/100\n",
            "134/134 [==============================] - ETA: 0s - loss: 1.1731 - accuracy: 0.7129\n",
            "Epoch 88: loss improved from 1.20937 to 1.17313, saving model to ./model_2_weights.hdf5\n",
            "134/134 [==============================] - 2s 13ms/step - loss: 1.1731 - accuracy: 0.7129\n",
            "Epoch 89/100\n",
            "134/134 [==============================] - ETA: 0s - loss: 1.1387 - accuracy: 0.7209\n",
            "Epoch 89: loss improved from 1.17313 to 1.13866, saving model to ./model_2_weights.hdf5\n",
            "134/134 [==============================] - 2s 16ms/step - loss: 1.1387 - accuracy: 0.7209\n",
            "Epoch 90/100\n",
            "130/134 [============================>.] - ETA: 0s - loss: 1.1128 - accuracy: 0.7294\n",
            "Epoch 90: loss improved from 1.13866 to 1.11471, saving model to ./model_2_weights.hdf5\n",
            "134/134 [==============================] - 1s 10ms/step - loss: 1.1147 - accuracy: 0.7292\n",
            "Epoch 91/100\n",
            "134/134 [==============================] - ETA: 0s - loss: 1.0837 - accuracy: 0.7359\n",
            "Epoch 91: loss improved from 1.11471 to 1.08368, saving model to ./model_2_weights.hdf5\n",
            "134/134 [==============================] - 2s 12ms/step - loss: 1.0837 - accuracy: 0.7359\n",
            "Epoch 92/100\n",
            "132/134 [============================>.] - ETA: 0s - loss: 1.0629 - accuracy: 0.7393\n",
            "Epoch 92: loss improved from 1.08368 to 1.06317, saving model to ./model_2_weights.hdf5\n",
            "134/134 [==============================] - 1s 11ms/step - loss: 1.0632 - accuracy: 0.7391\n",
            "Epoch 93/100\n",
            "132/134 [============================>.] - ETA: 0s - loss: 1.0244 - accuracy: 0.7521\n",
            "Epoch 93: loss improved from 1.06317 to 1.02549, saving model to ./model_2_weights.hdf5\n",
            "134/134 [==============================] - 2s 12ms/step - loss: 1.0255 - accuracy: 0.7518\n",
            "Epoch 94/100\n",
            "130/134 [============================>.] - ETA: 0s - loss: 0.9964 - accuracy: 0.7550\n",
            "Epoch 94: loss improved from 1.02549 to 1.00222, saving model to ./model_2_weights.hdf5\n",
            "134/134 [==============================] - 1s 11ms/step - loss: 1.0022 - accuracy: 0.7534\n",
            "Epoch 95/100\n",
            "134/134 [==============================] - ETA: 0s - loss: 0.9695 - accuracy: 0.7656\n",
            "Epoch 95: loss improved from 1.00222 to 0.96949, saving model to ./model_2_weights.hdf5\n",
            "134/134 [==============================] - 2s 13ms/step - loss: 0.9695 - accuracy: 0.7656\n",
            "Epoch 96/100\n",
            "132/134 [============================>.] - ETA: 0s - loss: 0.9403 - accuracy: 0.7715\n",
            "Epoch 96: loss improved from 0.96949 to 0.94242, saving model to ./model_2_weights.hdf5\n",
            "134/134 [==============================] - 2s 12ms/step - loss: 0.9424 - accuracy: 0.7710\n",
            "Epoch 97/100\n",
            "132/134 [============================>.] - ETA: 0s - loss: 0.9146 - accuracy: 0.7805\n",
            "Epoch 97: loss improved from 0.94242 to 0.91563, saving model to ./model_2_weights.hdf5\n",
            "134/134 [==============================] - 2s 13ms/step - loss: 0.9156 - accuracy: 0.7800\n",
            "Epoch 98/100\n",
            "131/134 [============================>.] - ETA: 0s - loss: 0.8923 - accuracy: 0.7829\n",
            "Epoch 98: loss improved from 0.91563 to 0.89400, saving model to ./model_2_weights.hdf5\n",
            "134/134 [==============================] - 1s 11ms/step - loss: 0.8940 - accuracy: 0.7820\n",
            "Epoch 99/100\n",
            "134/134 [==============================] - ETA: 0s - loss: 0.8563 - accuracy: 0.7936\n",
            "Epoch 99: loss improved from 0.89400 to 0.85631, saving model to ./model_2_weights.hdf5\n",
            "134/134 [==============================] - 2s 13ms/step - loss: 0.8563 - accuracy: 0.7936\n",
            "Epoch 100/100\n",
            "133/134 [============================>.] - ETA: 0s - loss: 0.8392 - accuracy: 0.7980\n",
            "Epoch 100: loss improved from 0.85631 to 0.83974, saving model to ./model_2_weights.hdf5\n",
            "134/134 [==============================] - 1s 11ms/step - loss: 0.8397 - accuracy: 0.7978\n"
          ]
        }
      ]
    },
    {
      "cell_type": "code",
      "source": [
        "import matplotlib.pyplot as plt\n",
        "plt.plot(history.history[\"loss\"])\n",
        "plt.title(\"model loss\")\n",
        "plt.ylabel(\"loss\")\n",
        "plt.xlabel(\"epoch\")\n",
        "plt.show()"
      ],
      "metadata": {
        "id": "WwoOMxqifnHb",
        "colab": {
          "base_uri": "https://localhost:8080/",
          "height": 472
        },
        "outputId": "e5f93758-304b-468e-f917-94d65b6f13df"
      },
      "execution_count": 51,
      "outputs": [
        {
          "output_type": "display_data",
          "data": {
            "text/plain": [
              "<Figure size 640x480 with 1 Axes>"
            ],
            "image/png": "[encoded data removed]"
          },
          "metadata": {}
        }
      ]
    },
    {
      "cell_type": "code",
      "source": [
        "import matplotlib.pyplot as plt\n",
        "plt.plot(history.history[\"accuracy\"])\n",
        "plt.title(\"model accuracy\")\n",
        "plt.ylabel(\"accuracy\")\n",
        "plt.xlabel(\"epoch\")\n",
        "plt.show()"
      ],
      "metadata": {
        "id": "zJLuOhy3QU8J",
        "colab": {
          "base_uri": "https://localhost:8080/",
          "height": 472
        },
        "outputId": "90875c29-a322-4a31-e4d8-2640bcd6df8b"
      },
      "execution_count": 52,
      "outputs": [
        {
          "output_type": "display_data",
          "data": {
            "text/plain": [
              "<Figure size 640x480 with 1 Axes>"
            ],
            "image/png": "[encoded data removed]"
          },
          "metadata": {}
        }
      ]
    },
    {
      "cell_type": "markdown",
      "source": [
        "We are now going to generate words using the model. For this we need a set of 50 words to predict the 51st word. So we are taking a random line."
      ],
      "metadata": {
        "id": "LAN3lcXhHS3b"
      }
    },
    {
      "cell_type": "code",
      "source": [
        "seed_text=lines[828]\n",
        "seed_text"
      ],
      "metadata": {
        "id": "qCXuB-vaHT-4",
        "colab": {
          "base_uri": "https://localhost:8080/",
          "height": 52
        },
        "outputId": "8f2fdc11-e373-43cf-8089-203ac6dd3900"
      },
      "execution_count": 64,
      "outputs": [
        {
          "output_type": "execute_result",
          "data": {
            "text/plain": [
              "'in each by mutual ordering resembling sire and child and happy mother who all in one one pleasing note do sing whose speechless song being many seeming one sings this to thee thou single wilt prove none is it for fear to wet a widows eye that thou consumst thy self'"
            ],
            "application/vnd.google.colaboratory.intrinsic+json": {
              "type": "string"
            }
          },
          "metadata": {},
          "execution_count": 64
        }
      ]
    },
    {
      "cell_type": "markdown",
      "source": [
        "generate_text_seq() generates n_words number of words after the given seed_text. We are going to pre-process the seed_text before predicting. We are going to encode the seed_text using the same encoding used for encoding the training data. Then we are going to convert the seed_textto 50 words by using pad_sequences(). Now we will predict using model.predict_classes(). After that we will search the word in tokenizer using the index in y_predict. Finally we will append the predicted word to seed_text and text and repeat the process.\n",
        "\n",
        "\n",
        "gen() takes a string input, tokenizes it, then pads it with zeroes so it fits into our 100 long prediction window.\n"
      ],
      "metadata": {
        "id": "VPKrCRZFHd1v"
      }
    },
    {
      "cell_type": "code",
      "source": [
        "reverse_word_map = dict(map(reversed, tokenizer.word_index.items()))"
      ],
      "metadata": {
        "id": "n8PIT6HCf5iJ"
      },
      "execution_count": 66,
      "outputs": []
    },
    {
      "cell_type": "code",
      "source": [
        "def gen(model,tokenizer,seq,max_len):\n",
        "    ''' Generates a sequence given a string seq using specified model until the total sequence length\n",
        "    reaches max_len'''\n",
        "    # Tokenize the input string\n",
        "    tokenized_sent = tokenizer.texts_to_sequences([seq])\n",
        "    max_len = max_len+len(tokenized_sent[0])\n",
        "    # If sentence is not as long as the desired sentence length, we need to 'pad sequence' so that\n",
        "    # the array input shape is correct going into our LSTM. the `pad_sequences` function adds \n",
        "    # zeroes to the left side of our sequence until it becomes 19 long, the number of input features.\n",
        "    while len(tokenized_sent[0]) < max_len:\n",
        "        padded_sentence = pad_sequences(tokenized_sent[-50:],maxlen=50)\n",
        "        op = model.predict(np.asarray(padded_sentence).reshape(1,-1))\n",
        "        tokenized_sent[0].append(op.argmax()+1)\n",
        "        \n",
        "    return \" \".join(map(lambda x : reverse_word_map[x],tokenized_sent[0]))"
      ],
      "metadata": {
        "id": "f02qxl01DYxL"
      },
      "execution_count": 67,
      "outputs": []
    },
    {
      "cell_type": "code",
      "source": [
        "gen(model,tokenizer,seed_text,100)"
      ],
      "metadata": {
        "id": "w9BIHFsQEWit",
        "colab": {
          "base_uri": "https://localhost:8080/",
          "height": 1000
        },
        "outputId": "e00ccec6-2927-48ea-d661-0c91dc1d15b5"
      },
      "execution_count": 68,
      "outputs": [
        {
          "output_type": "stream",
          "name": "stdout",
          "text": [
            "1/1 [==============================] - 0s 23ms/step\n",
            "1/1 [==============================] - 0s 25ms/step\n",
            "1/1 [==============================] - 0s 23ms/step\n",
            "1/1 [==============================] - 0s 21ms/step\n",
            "1/1 [==============================] - 0s 23ms/step\n",
            "1/1 [==============================] - 0s 21ms/step\n",
            "1/1 [==============================] - 0s 19ms/step\n",
            "1/1 [==============================] - 0s 22ms/step\n",
            "1/1 [==============================] - 0s 21ms/step\n",
            "1/1 [==============================] - 0s 25ms/step\n",
            "1/1 [==============================] - 0s 21ms/step\n",
            "1/1 [==============================] - 0s 23ms/step\n",
            "1/1 [==============================] - 0s 20ms/step\n",
            "1/1 [==============================] - 0s 19ms/step\n",
            "1/1 [==============================] - 0s 21ms/step\n",
            "1/1 [==============================] - 0s 21ms/step\n",
            "1/1 [==============================] - 0s 19ms/step\n",
            "1/1 [==============================] - 0s 26ms/step\n",
            "1/1 [==============================] - 0s 19ms/step\n",
            "1/1 [==============================] - 0s 40ms/step\n",
            "1/1 [==============================] - 0s 37ms/step\n",
            "1/1 [==============================] - 0s 30ms/step\n",
            "1/1 [==============================] - 0s 28ms/step\n",
            "1/1 [==============================] - 0s 28ms/step\n",
            "1/1 [==============================] - 0s 29ms/step\n",
            "1/1 [==============================] - 0s 28ms/step\n",
            "1/1 [==============================] - 0s 32ms/step\n",
            "1/1 [==============================] - 0s 31ms/step\n",
            "1/1 [==============================] - 0s 29ms/step\n",
            "1/1 [==============================] - 0s 33ms/step\n",
            "1/1 [==============================] - 0s 28ms/step\n",
            "1/1 [==============================] - 0s 29ms/step\n",
            "1/1 [==============================] - 0s 31ms/step\n",
            "1/1 [==============================] - 0s 28ms/step\n",
            "1/1 [==============================] - 0s 32ms/step\n",
            "1/1 [==============================] - 0s 29ms/step\n",
            "1/1 [==============================] - 0s 37ms/step\n",
            "1/1 [==============================] - 0s 30ms/step\n",
            "1/1 [==============================] - 0s 30ms/step\n",
            "1/1 [==============================] - 0s 39ms/step\n",
            "1/1 [==============================] - 0s 29ms/step\n",
            "1/1 [==============================] - 0s 33ms/step\n",
            "1/1 [==============================] - 0s 31ms/step\n",
            "1/1 [==============================] - 0s 36ms/step\n",
            "1/1 [==============================] - 0s 40ms/step\n",
            "1/1 [==============================] - 0s 30ms/step\n",
            "1/1 [==============================] - 0s 20ms/step\n",
            "1/1 [==============================] - 0s 20ms/step\n",
            "1/1 [==============================] - 0s 19ms/step\n",
            "1/1 [==============================] - 0s 18ms/step\n",
            "1/1 [==============================] - 0s 20ms/step\n",
            "1/1 [==============================] - 0s 20ms/step\n",
            "1/1 [==============================] - 0s 24ms/step\n",
            "1/1 [==============================] - 0s 26ms/step\n",
            "1/1 [==============================] - 0s 19ms/step\n",
            "1/1 [==============================] - 0s 30ms/step\n",
            "1/1 [==============================] - 0s 23ms/step\n",
            "1/1 [==============================] - 0s 21ms/step\n",
            "1/1 [==============================] - 0s 19ms/step\n",
            "1/1 [==============================] - 0s 21ms/step\n",
            "1/1 [==============================] - 0s 19ms/step\n",
            "1/1 [==============================] - 0s 20ms/step\n",
            "1/1 [==============================] - 0s 21ms/step\n",
            "1/1 [==============================] - 0s 19ms/step\n",
            "1/1 [==============================] - 0s 19ms/step\n",
            "1/1 [==============================] - 0s 22ms/step\n",
            "1/1 [==============================] - 0s 21ms/step\n",
            "1/1 [==============================] - 0s 26ms/step\n",
            "1/1 [==============================] - 0s 19ms/step\n",
            "1/1 [==============================] - 0s 21ms/step\n",
            "1/1 [==============================] - 0s 21ms/step\n",
            "1/1 [==============================] - 0s 22ms/step\n",
            "1/1 [==============================] - 0s 22ms/step\n",
            "1/1 [==============================] - 0s 19ms/step\n",
            "1/1 [==============================] - 0s 21ms/step\n",
            "1/1 [==============================] - 0s 19ms/step\n",
            "1/1 [==============================] - 0s 19ms/step\n",
            "1/1 [==============================] - 0s 19ms/step\n",
            "1/1 [==============================] - 0s 19ms/step\n",
            "1/1 [==============================] - 0s 19ms/step\n",
            "1/1 [==============================] - 0s 19ms/step\n",
            "1/1 [==============================] - 0s 19ms/step\n",
            "1/1 [==============================] - 0s 20ms/step\n",
            "1/1 [==============================] - 0s 19ms/step\n",
            "1/1 [==============================] - 0s 21ms/step\n",
            "1/1 [==============================] - 0s 18ms/step\n",
            "1/1 [==============================] - 0s 19ms/step\n",
            "1/1 [==============================] - 0s 20ms/step\n",
            "1/1 [==============================] - 0s 19ms/step\n",
            "1/1 [==============================] - 0s 28ms/step\n",
            "1/1 [==============================] - 0s 20ms/step\n",
            "1/1 [==============================] - 0s 19ms/step\n",
            "1/1 [==============================] - 0s 20ms/step\n",
            "1/1 [==============================] - 0s 21ms/step\n",
            "1/1 [==============================] - 0s 19ms/step\n",
            "1/1 [==============================] - 0s 21ms/step\n",
            "1/1 [==============================] - 0s 21ms/step\n",
            "1/1 [==============================] - 0s 21ms/step\n",
            "1/1 [==============================] - 0s 19ms/step\n",
            "1/1 [==============================] - 0s 22ms/step\n"
          ]
        },
        {
          "output_type": "execute_result",
          "data": {
            "text/plain": [
              "'in each by mutual ordering resembling sire and child and happy mother who all in one one pleasing note do sing whose speechless song being many seeming one sings this to thee thou single wilt prove none is it for fear to wet a widows eye that thou consumst thy self thy plea female without muse man you even not these there than loves better fool his alter none you from more black stop men all hath is then be dost with that be dost that my course account the his none who even my life all when fawn stay from of let a barren resembling report or most thou form i buried compared the me in doth jewel gone fill youth music all well know all my hast part be or thou gainst eye verse more dear scythe not fair advantage his alter thy so let that art music on'"
            ],
            "application/vnd.google.colaboratory.intrinsic+json": {
              "type": "string"
            }
          },
          "metadata": {},
          "execution_count": 68
        }
      ]
    }
  ]
}